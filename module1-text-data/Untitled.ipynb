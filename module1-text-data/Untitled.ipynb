{
 "cells": [
  {
   "cell_type": "code",
   "execution_count": 13,
   "metadata": {},
   "outputs": [
    {
     "ename": "SyntaxError",
     "evalue": "invalid syntax (<ipython-input-13-53a9e6c63ba3>, line 38)",
     "output_type": "error",
     "traceback": [
      "\u001b[1;36m  File \u001b[1;32m\"<ipython-input-13-53a9e6c63ba3>\"\u001b[1;36m, line \u001b[1;32m38\u001b[0m\n\u001b[1;33m    def(self, name, price=10, weight=10, flammability=0.5):\u001b[0m\n\u001b[1;37m       ^\u001b[0m\n\u001b[1;31mSyntaxError\u001b[0m\u001b[1;31m:\u001b[0m invalid syntax\n"
     ]
    }
   ],
   "source": [
    "\n",
    "import random\n",
    "\n",
    "\n",
    "class Product():\n",
    "\n",
    "    def __init__(self, name, price=10,\n",
    "                 weight=20, flammability=0.5,\n",
    "                 identifier=random.randint(1000000, 9999999)):\n",
    "        self.name = name\n",
    "        self.price = price\n",
    "        self.weight = weight\n",
    "        self.flammability = flammability\n",
    "        self.identifier = identifier\n",
    "\n",
    "    def stealability(self):\n",
    "        x = self.price / self.weight\n",
    "        if x < 0.5:\n",
    "            return 'not so stealable'\n",
    "        elif x >= 0.5 or x < 1:\n",
    "            return 'kinda stealable'\n",
    "        else:\n",
    "            return 'very stealable'\n",
    "        print(\"small worth\", x=0.3)\n",
    "        print(\"some worth\", x=0.7)\n",
    "        print(\"huge worth\", x=2)\n",
    "\n",
    "    def explode(self):\n",
    "        product = self.flammability * self.weight\n",
    "        if product < 10:\n",
    "            return '...fizzle'\n",
    "        elif product >= 10 or product < 50:\n",
    "            return '...boom!'\n",
    "        else:\n",
    "            return '...BABOOM!!'\n",
    "\n",
    "\n",
    "class BoxingGlove(Product):\n",
    "    def __init__(self, name, price=10, weight=10, flammability=0.5):\n",
    "        super().__init__(name, price, weight, flammability)\n",
    "\n",
    "    def explode(self):\n",
    "        return \"...it's a glove\"\n",
    "\n",
    "    def punch(self):\n",
    "        self.weight = 10\n",
    "        if weight < 5:\n",
    "            return 'That tickles'\n",
    "        elif weight >= 5 or weight < 15:\n",
    "            return 'Hey, that hurt!'\n",
    "        else:\n",
    "            return 'OUCH!'\n",
    "\n",
    "\n",
    "if __name__ == \"__main__\":\n",
    "    glove = BoxingGlove(\"Boxing_Bag\", 10, 10, 0.5)\n",
    "    glove.explode()\n",
    "    glove.stealability()\n",
    "    print(glove.explode)\n"
   ]
  },
  {
   "cell_type": "code",
   "execution_count": 10,
   "metadata": {},
   "outputs": [
    {
     "name": "stdout",
     "output_type": "stream",
     "text": [
      "<class '__main__.Dog'>\n"
     ]
    }
   ],
   "source": [
    "class Dog:\n",
    "    def bark(self):\n",
    "        print(\"bark\")\n",
    "\n",
    "d = Dog()\n",
    "print(type(d))"
   ]
  },
  {
   "cell_type": "code",
   "execution_count": 12,
   "metadata": {},
   "outputs": [
    {
     "name": "stdout",
     "output_type": "stream",
     "text": [
      "bark\n"
     ]
    }
   ],
   "source": [
    "d.bark()"
   ]
  },
  {
   "cell_type": "code",
   "execution_count": 3,
   "metadata": {},
   "outputs": [
    {
     "data": {
      "text/plain": [
       "[2, 4, 6, 8, 10, 12]"
      ]
     },
     "execution_count": 3,
     "metadata": {},
     "output_type": "execute_result"
    }
   ],
   "source": [
    "x = [1,2,3,4,5,6]\n",
    "\n",
    "result = []\n",
    "\n",
    "for idx in range(len(x)):\n",
    "    result.append(x[idx]*2)\n",
    "result"
   ]
  },
  {
   "cell_type": "code",
   "execution_count": 2,
   "metadata": {},
   "outputs": [
    {
     "data": {
      "text/plain": [
       "[1, 2, 3, 4, 5, 6, 1, 2, 3, 4, 5, 6]"
      ]
     },
     "execution_count": 2,
     "metadata": {},
     "output_type": "execute_result"
    }
   ],
   "source": [
    "result"
   ]
  },
  {
   "cell_type": "code",
   "execution_count": 4,
   "metadata": {},
   "outputs": [
    {
     "data": {
      "text/plain": [
       "[2, 4, 6, 8, 10, 12]"
      ]
     },
     "execution_count": 4,
     "metadata": {},
     "output_type": "execute_result"
    }
   ],
   "source": [
    "x = [1,2,3,4,5,6]\n",
    "\n",
    "result = [(element*2) for element in x]\n",
    "\n",
    "\n",
    "result"
   ]
  },
  {
   "cell_type": "code",
   "execution_count": null,
   "metadata": {},
   "outputs": [],
   "source": []
  }
 ],
 "metadata": {
  "kernelspec": {
   "display_name": "Python 3",
   "language": "python",
   "name": "python3"
  },
  "language_info": {
   "codemirror_mode": {
    "name": "ipython",
    "version": 3
   },
   "file_extension": ".py",
   "mimetype": "text/x-python",
   "name": "python",
   "nbconvert_exporter": "python",
   "pygments_lexer": "ipython3",
   "version": "3.7.3"
  }
 },
 "nbformat": 4,
 "nbformat_minor": 2
}
